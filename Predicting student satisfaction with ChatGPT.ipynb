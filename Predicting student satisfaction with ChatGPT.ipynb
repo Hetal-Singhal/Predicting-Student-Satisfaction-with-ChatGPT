{
 "cells": [
  {
   "cell_type": "code",
   "execution_count": 1,
   "id": "75c9ab52-31fc-44ba-9017-454d96874f05",
   "metadata": {},
   "outputs": [],
   "source": [
    "import pandas as pd\n",
    "import numpy as np\n",
    "from sklearn.preprocessing import LabelEncoder, MinMaxScaler\n",
    "from sklearn.impute import SimpleImputer\n"
   ]
  },
  {
   "cell_type": "code",
   "execution_count": 2,
   "id": "0ab72576-f7f2-4322-a35f-3185b2191647",
   "metadata": {},
   "outputs": [],
   "source": [
    "data=pd.read_excel(\"C:\\\\Users\\\\HP\\\\Desktop\\\\Projects\\\\Higher Education Students Early Perceptions of ChatGPT Global Survey Data\\\\final dataset.xlsx\")"
   ]
  },
  {
   "cell_type": "code",
   "execution_count": 4,
   "id": "6699bfb7-42a7-4ac5-bfb8-dad4f877c659",
   "metadata": {},
   "outputs": [
    {
     "name": "stdout",
     "output_type": "stream",
     "text": [
      "Shape: (23218, 174)\n",
      "Columns: ['Q1', 'Q2', 'Q3', 'Q4', 'Q5', 'Q6', 'Q7', 'Q8', 'Q9', 'Q10', 'Q11', 'Q12', 'Q13', 'Q14', 'Q15', 'Q16', 'Q17', 'Q18a', 'Q18b', 'Q18c', 'Q18d', 'Q18e', 'Q18f', 'Q18g', 'Q18h', 'Q18i', 'Q18j', 'Q18k', 'Q18l', 'Q19a', 'Q19b', 'Q19c', 'Q19d', 'Q19e', 'Q19f', 'Q19g', 'Q19h', 'Q19i', 'Q19j', 'Q20', 'Q21a', 'Q21b', 'Q21c', 'Q21d', 'Q22a', 'Q22b', 'Q22c', 'Q22d', 'Q22e', 'Q22f', 'Q22g', 'Q22h', 'Q22i', 'Q22j', 'Q23a', 'Q23b', 'Q23c', 'Q23d', 'Q24a', 'Q24b', 'Q24c', 'Q24d', 'Q24e', 'Q24f', 'Q24g', 'Q25a', 'Q25b', 'Q25c', 'Q25d', 'Q26a', 'Q26b', 'Q26c', 'Q26d', 'Q26e', 'Q26f', 'Q26g', 'Q26h', 'Q26i', 'Q26j', 'Q27a', 'Q27b', 'Q27c', 'Q27d', 'Q27e', 'Q27f', 'Q27g', 'Q27h', 'Q27i', 'Q27j', 'Q28a', 'Q28b', 'Q28c', 'Q28d', 'Q28e', 'Q28f', 'Q28g', 'Q28h', 'Q28i', 'Q29a', 'Q29b', 'Q29c', 'Q29d', 'Q29e', 'Q29f', 'Q29g', 'Q29h', 'Q29i', 'Q30a', 'Q30b', 'Q30c', 'Q30d', 'Q30e', 'Q30f', 'Q30g', 'Q30h', 'Q30i', 'Q30j', 'Q30k', 'Q30l', 'Q31a', 'Q31b', 'Q31c', 'Q31d', 'Q32a', 'Q32b', 'Q32c', 'Q32d', 'Q32e', 'Q32f', 'Q32g', 'Q32h', 'Q32i', 'Q32j', 'Q32k', 'Q32l', 'Q32m', 'Q32n', 'Q32o', 'Q33', 'Q34', 'Q35a', 'Q35b', 'Q35c', 'Q35d', 'Q35e', 'Q35f', 'Q35g', 'Q35h', 'Q35i', 'Q35j', 'Q35k', 'Q35l', 'Q35m', 'Q35n', 'Q36', 'Q37', 'Q38', 'Q39', 'Q40a', 'Q40b', 'Q40c', 'Q40d', 'Q40e', 'Q40f', 'Q40g', 'Q40h', 'Q40i', 'Q40j', 'Q40k', 'Q40l', 'Q40m', 'Q40n', 'Q40o', 'source']\n"
     ]
    },
    {
     "data": {
      "text/html": [
       "<div>\n",
       "<style scoped>\n",
       "    .dataframe tbody tr th:only-of-type {\n",
       "        vertical-align: middle;\n",
       "    }\n",
       "\n",
       "    .dataframe tbody tr th {\n",
       "        vertical-align: top;\n",
       "    }\n",
       "\n",
       "    .dataframe thead th {\n",
       "        text-align: right;\n",
       "    }\n",
       "</style>\n",
       "<table border=\"1\" class=\"dataframe\">\n",
       "  <thead>\n",
       "    <tr style=\"text-align: right;\">\n",
       "      <th></th>\n",
       "      <th>Q1</th>\n",
       "      <th>Q2</th>\n",
       "      <th>Q3</th>\n",
       "      <th>Q4</th>\n",
       "      <th>Q5</th>\n",
       "      <th>Q6</th>\n",
       "      <th>Q7</th>\n",
       "      <th>Q8</th>\n",
       "      <th>Q9</th>\n",
       "      <th>Q10</th>\n",
       "      <th>...</th>\n",
       "      <th>Q40g</th>\n",
       "      <th>Q40h</th>\n",
       "      <th>Q40i</th>\n",
       "      <th>Q40j</th>\n",
       "      <th>Q40k</th>\n",
       "      <th>Q40l</th>\n",
       "      <th>Q40m</th>\n",
       "      <th>Q40n</th>\n",
       "      <th>Q40o</th>\n",
       "      <th>source</th>\n",
       "    </tr>\n",
       "  </thead>\n",
       "  <tbody>\n",
       "    <tr>\n",
       "      <th>0</th>\n",
       "      <td>Afghanistan</td>\n",
       "      <td>2.0</td>\n",
       "      <td>27.0</td>\n",
       "      <td>Afghanistan</td>\n",
       "      <td>القدس المفتوحة</td>\n",
       "      <td>1.0</td>\n",
       "      <td>1.0</td>\n",
       "      <td>1.0</td>\n",
       "      <td>1.0</td>\n",
       "      <td>1.0</td>\n",
       "      <td>...</td>\n",
       "      <td>NaN</td>\n",
       "      <td>NaN</td>\n",
       "      <td>NaN</td>\n",
       "      <td>NaN</td>\n",
       "      <td>NaN</td>\n",
       "      <td>NaN</td>\n",
       "      <td>NaN</td>\n",
       "      <td>NaN</td>\n",
       "      <td>NaN</td>\n",
       "      <td>AR</td>\n",
       "    </tr>\n",
       "    <tr>\n",
       "      <th>1</th>\n",
       "      <td>Afghanistan</td>\n",
       "      <td>4.0</td>\n",
       "      <td>100.0</td>\n",
       "      <td>Afghanistan</td>\n",
       "      <td>456</td>\n",
       "      <td>2.0</td>\n",
       "      <td>2.0</td>\n",
       "      <td>3.0</td>\n",
       "      <td>2.0</td>\n",
       "      <td>4.0</td>\n",
       "      <td>...</td>\n",
       "      <td>NaN</td>\n",
       "      <td>NaN</td>\n",
       "      <td>NaN</td>\n",
       "      <td>NaN</td>\n",
       "      <td>NaN</td>\n",
       "      <td>NaN</td>\n",
       "      <td>NaN</td>\n",
       "      <td>NaN</td>\n",
       "      <td>NaN</td>\n",
       "      <td>EN</td>\n",
       "    </tr>\n",
       "    <tr>\n",
       "      <th>2</th>\n",
       "      <td>Afghanistan</td>\n",
       "      <td>1.0</td>\n",
       "      <td>21.0</td>\n",
       "      <td>Albania</td>\n",
       "      <td>منيا</td>\n",
       "      <td>1.0</td>\n",
       "      <td>1.0</td>\n",
       "      <td>1.0</td>\n",
       "      <td>1.0</td>\n",
       "      <td>1.0</td>\n",
       "      <td>...</td>\n",
       "      <td>3.0</td>\n",
       "      <td>2.0</td>\n",
       "      <td>3.0</td>\n",
       "      <td>4.0</td>\n",
       "      <td>3.0</td>\n",
       "      <td>2.0</td>\n",
       "      <td>2.0</td>\n",
       "      <td>1.0</td>\n",
       "      <td>1.0</td>\n",
       "      <td>EN</td>\n",
       "    </tr>\n",
       "    <tr>\n",
       "      <th>3</th>\n",
       "      <td>Afghanistan</td>\n",
       "      <td>1.0</td>\n",
       "      <td>18.0</td>\n",
       "      <td>Ecuador</td>\n",
       "      <td>Universidad Indoamerica., Facultad Arquitectur...</td>\n",
       "      <td>2.0</td>\n",
       "      <td>1.0</td>\n",
       "      <td>1.0</td>\n",
       "      <td>1.0</td>\n",
       "      <td>4.0</td>\n",
       "      <td>...</td>\n",
       "      <td>3.0</td>\n",
       "      <td>3.0</td>\n",
       "      <td>3.0</td>\n",
       "      <td>3.0</td>\n",
       "      <td>3.0</td>\n",
       "      <td>3.0</td>\n",
       "      <td>3.0</td>\n",
       "      <td>3.0</td>\n",
       "      <td>3.0</td>\n",
       "      <td>ES</td>\n",
       "    </tr>\n",
       "    <tr>\n",
       "      <th>4</th>\n",
       "      <td>Afghanistan</td>\n",
       "      <td>2.0</td>\n",
       "      <td>26.0</td>\n",
       "      <td>Spain</td>\n",
       "      <td>De vigo universidad</td>\n",
       "      <td>1.0</td>\n",
       "      <td>2.0</td>\n",
       "      <td>2.0</td>\n",
       "      <td>1.0</td>\n",
       "      <td>2.0</td>\n",
       "      <td>...</td>\n",
       "      <td>4.0</td>\n",
       "      <td>3.0</td>\n",
       "      <td>4.0</td>\n",
       "      <td>3.0</td>\n",
       "      <td>3.0</td>\n",
       "      <td>3.0</td>\n",
       "      <td>4.0</td>\n",
       "      <td>3.0</td>\n",
       "      <td>4.0</td>\n",
       "      <td>ES</td>\n",
       "    </tr>\n",
       "  </tbody>\n",
       "</table>\n",
       "<p>5 rows × 174 columns</p>\n",
       "</div>"
      ],
      "text/plain": [
       "            Q1   Q2     Q3           Q4  \\\n",
       "0  Afghanistan  2.0   27.0  Afghanistan   \n",
       "1  Afghanistan  4.0  100.0  Afghanistan   \n",
       "2  Afghanistan  1.0   21.0      Albania   \n",
       "3  Afghanistan  1.0   18.0      Ecuador   \n",
       "4  Afghanistan  2.0   26.0        Spain   \n",
       "\n",
       "                                                  Q5   Q6   Q7   Q8   Q9  Q10  \\\n",
       "0                                     القدس المفتوحة  1.0  1.0  1.0  1.0  1.0   \n",
       "1                                                456  2.0  2.0  3.0  2.0  4.0   \n",
       "2                                               منيا  1.0  1.0  1.0  1.0  1.0   \n",
       "3  Universidad Indoamerica., Facultad Arquitectur...  2.0  1.0  1.0  1.0  4.0   \n",
       "4                                De vigo universidad  1.0  2.0  2.0  1.0  2.0   \n",
       "\n",
       "   ...  Q40g  Q40h  Q40i  Q40j  Q40k  Q40l  Q40m  Q40n  Q40o  source  \n",
       "0  ...   NaN   NaN   NaN   NaN   NaN   NaN   NaN   NaN   NaN      AR  \n",
       "1  ...   NaN   NaN   NaN   NaN   NaN   NaN   NaN   NaN   NaN      EN  \n",
       "2  ...   3.0   2.0   3.0   4.0   3.0   2.0   2.0   1.0   1.0      EN  \n",
       "3  ...   3.0   3.0   3.0   3.0   3.0   3.0   3.0   3.0   3.0      ES  \n",
       "4  ...   4.0   3.0   4.0   3.0   3.0   3.0   4.0   3.0   4.0      ES  \n",
       "\n",
       "[5 rows x 174 columns]"
      ]
     },
     "execution_count": 4,
     "metadata": {},
     "output_type": "execute_result"
    }
   ],
   "source": [
    "print(\"Shape:\", data.shape)\n",
    "print(\"Columns:\", data.columns.tolist())\n",
    "data.head()"
   ]
  },
  {
   "cell_type": "code",
   "execution_count": 7,
   "id": "1a5ca1a9-9683-4c6e-8a19-24cf9625f58b",
   "metadata": {},
   "outputs": [
    {
     "name": "stderr",
     "output_type": "stream",
     "text": [
      "C:\\Users\\HP\\AppData\\Local\\Temp\\ipykernel_12704\\1463297960.py:27: PerformanceWarning: DataFrame is highly fragmented.  This is usually the result of calling `frame.insert` many times, which has poor performance.  Consider joining all columns at once using pd.concat(axis=1) instead. To get a de-fragmented frame, use `newframe = frame.copy()`\n",
      "  data['satisfaction_score'] = data[satisfaction_cols].mean(axis=1)\n"
     ]
    }
   ],
   "source": [
    "# Step 1: Map Likert scale (only if not already numeric)\n",
    "likert_5_map = {\n",
    "    'Strongly disagree': 1,\n",
    "    'Disagree': 2,\n",
    "    'Neutral': 3,\n",
    "    'Agree': 4,\n",
    "    'Strongly agree': 5\n",
    "}\n",
    "\n",
    "satisfaction_cols = ['Q24e', 'Q24f', 'Q24g']\n",
    "for col in satisfaction_cols:\n",
    "    if col in data.columns and data[col].dtype == 'object':\n",
    "        data[col] = data[col].map(likert_5_map)\n",
    "\n",
    "# Step 2: Drop columns with all NaNs before imputing\n",
    "numeric_cols = data.select_dtypes(include=[np.number]).columns.tolist()\n",
    "valid_numeric_cols = [col for col in numeric_cols if not data[col].isnull().all()]\n",
    "\n",
    "# Step 3: Impute and scale\n",
    "from sklearn.impute import SimpleImputer\n",
    "from sklearn.preprocessing import MinMaxScaler\n",
    "\n",
    "imputer = SimpleImputer(strategy='mean')\n",
    "data[valid_numeric_cols] = imputer.fit_transform(data[valid_numeric_cols])\n",
    "\n",
    "# Step 4: Create regression target\n",
    "data['satisfaction_score'] = data[satisfaction_cols].mean(axis=1)\n"
   ]
  },
  {
   "cell_type": "code",
   "execution_count": 9,
   "id": "84a7b9f6-ad5f-4139-8d28-bd759c6f5025",
   "metadata": {},
   "outputs": [],
   "source": [
    "categorical_cols = data.select_dtypes(include=['object']).columns.tolist()\n",
    "label_encoders = {}\n",
    "\n",
    "for col in categorical_cols:\n",
    "    le = LabelEncoder()\n",
    "    data[col] = le.fit_transform(data[col].astype(str))\n",
    "    label_encoders[col] = le\n"
   ]
  },
  {
   "cell_type": "code",
   "execution_count": 11,
   "id": "5d15055d-5b92-4c4f-a781-1a340e5e3ac2",
   "metadata": {},
   "outputs": [
    {
     "name": "stdout",
     "output_type": "stream",
     "text": [
      "Unique values before mapping:\n",
      "Q24e: [3.52864546 3.         4.         5.         1.         2.        ]\n",
      "Q24f: [3.33112678 3.         4.         5.         2.         1.        ]\n",
      "Q24g: [3.16001151 2.         4.         3.         5.         1.        ]\n"
     ]
    }
   ],
   "source": [
    "print(\"Unique values before mapping:\")\n",
    "for col in ['Q24e', 'Q24f', 'Q24g']:\n",
    "    print(f\"{col}: {data[col].unique()}\")\n"
   ]
  },
  {
   "cell_type": "code",
   "execution_count": 13,
   "id": "886d11c1-f6ea-48ba-bbdd-d602def04034",
   "metadata": {},
   "outputs": [],
   "source": [
    "numeric_cols = data.select_dtypes(include=[np.number]).columns\n",
    "imputer = SimpleImputer(strategy='mean')\n",
    "data[numeric_cols] = imputer.fit_transform(data[numeric_cols])\n",
    "\n",
    "scaler = MinMaxScaler()\n",
    "data[numeric_cols] = scaler.fit_transform(data[numeric_cols])\n",
    "\n"
   ]
  },
  {
   "cell_type": "code",
   "execution_count": 15,
   "id": "3c4e2ee8-3c78-4373-bc47-437a58ebf0f5",
   "metadata": {},
   "outputs": [
    {
     "name": "stdout",
     "output_type": "stream",
     "text": [
      "count    23218.000000\n",
      "mean         0.584982\n",
      "std          0.160360\n",
      "min          0.000000\n",
      "25%          0.500000\n",
      "50%          0.584982\n",
      "75%          0.666667\n",
      "max          1.000000\n",
      "Name: satisfaction_score, dtype: float64\n"
     ]
    },
    {
     "data": {
      "text/html": [
       "<div>\n",
       "<style scoped>\n",
       "    .dataframe tbody tr th:only-of-type {\n",
       "        vertical-align: middle;\n",
       "    }\n",
       "\n",
       "    .dataframe tbody tr th {\n",
       "        vertical-align: top;\n",
       "    }\n",
       "\n",
       "    .dataframe thead th {\n",
       "        text-align: right;\n",
       "    }\n",
       "</style>\n",
       "<table border=\"1\" class=\"dataframe\">\n",
       "  <thead>\n",
       "    <tr style=\"text-align: right;\">\n",
       "      <th></th>\n",
       "      <th>satisfaction_score</th>\n",
       "    </tr>\n",
       "  </thead>\n",
       "  <tbody>\n",
       "    <tr>\n",
       "      <th>0</th>\n",
       "      <td>0.584982</td>\n",
       "    </tr>\n",
       "    <tr>\n",
       "      <th>1</th>\n",
       "      <td>0.584982</td>\n",
       "    </tr>\n",
       "    <tr>\n",
       "      <th>2</th>\n",
       "      <td>0.416667</td>\n",
       "    </tr>\n",
       "    <tr>\n",
       "      <th>3</th>\n",
       "      <td>0.584982</td>\n",
       "    </tr>\n",
       "    <tr>\n",
       "      <th>4</th>\n",
       "      <td>0.750000</td>\n",
       "    </tr>\n",
       "  </tbody>\n",
       "</table>\n",
       "</div>"
      ],
      "text/plain": [
       "   satisfaction_score\n",
       "0            0.584982\n",
       "1            0.584982\n",
       "2            0.416667\n",
       "3            0.584982\n",
       "4            0.750000"
      ]
     },
     "execution_count": 15,
     "metadata": {},
     "output_type": "execute_result"
    }
   ],
   "source": [
    "# Columns involved in satisfaction score\n",
    "satisfaction_cols = ['Q24e', 'Q24f', 'Q24g']\n",
    "\n",
    "# Check if these columns exist\n",
    "for col in satisfaction_cols:\n",
    "    if col not in data.columns:\n",
    "        raise ValueError(f\"Missing column: {col}\")\n",
    "\n",
    "# Create composite satisfaction score\n",
    "data['satisfaction_score'] = data[satisfaction_cols].mean(axis=1)\n",
    "\n",
    "print(data['satisfaction_score'].describe())\n",
    "data[['satisfaction_score']].head()\n"
   ]
  },
  {
   "cell_type": "code",
   "execution_count": 17,
   "id": "435f337a-21b1-4c3e-9e49-c856f83d80a6",
   "metadata": {},
   "outputs": [
    {
     "name": "stdout",
     "output_type": "stream",
     "text": [
      "Train shape: (18574, 174)\n",
      "Test shape: (4644, 174)\n"
     ]
    }
   ],
   "source": [
    "from sklearn.model_selection import train_test_split\n",
    "\n",
    "# Define features and target\n",
    "X = data.drop(columns=['satisfaction_score'])\n",
    "y = data['satisfaction_score']\n",
    "\n",
    "# Split into train/test\n",
    "X_train, X_test, y_train, y_test = train_test_split(\n",
    "    X, y, test_size=0.2, random_state=42\n",
    ")\n",
    "\n",
    "print(\"Train shape:\", X_train.shape)\n",
    "print(\"Test shape:\", X_test.shape)\n"
   ]
  },
  {
   "cell_type": "code",
   "execution_count": 19,
   "id": "632e66f4-d6de-4a5e-95f3-08f90ad0d1b9",
   "metadata": {},
   "outputs": [],
   "source": [
    "from sklearn.model_selection import train_test_split\n",
    "from sklearn.linear_model import LinearRegression\n",
    "from sklearn.ensemble import RandomForestRegressor\n",
    "from sklearn.metrics import mean_absolute_error, mean_squared_error, r2_score"
   ]
  },
  {
   "cell_type": "code",
   "execution_count": 21,
   "id": "20b49a7a-0670-4d4a-b013-41461dd8fba7",
   "metadata": {},
   "outputs": [],
   "source": [
    "X = data.drop(columns=['satisfaction_score'])\n",
    "y = data['satisfaction_score']\n",
    "\n",
    "# Train-Test Split\n",
    "X_train, X_test, y_train, y_test = train_test_split(\n",
    "    X, y, test_size=0.2, random_state=42\n",
    ")\n"
   ]
  },
  {
   "cell_type": "markdown",
   "id": "965abcd5-fe80-4be3-87db-ffa79a579dd2",
   "metadata": {},
   "source": [
    "LINEAR REGRESSION"
   ]
  },
  {
   "cell_type": "code",
   "execution_count": 24,
   "id": "914f2910-dfe0-486e-87ca-bf69a5234df2",
   "metadata": {},
   "outputs": [
    {
     "name": "stdout",
     "output_type": "stream",
     "text": [
      "📘 Linear Regression Performance:\n",
      "MAE: 3.557491054082433e-16\n",
      "MSE: 2.1796094374147568e-31\n",
      "RMSE: 4.668628746660797e-16\n",
      "R² Score: 1.0\n"
     ]
    }
   ],
   "source": [
    "lr_model = LinearRegression()\n",
    "lr_model.fit(X_train, y_train)\n",
    "\n",
    "lr_preds = lr_model.predict(X_test)\n",
    "\n",
    "print(\"📘 Linear Regression Performance:\")\n",
    "print(\"MAE:\", mean_absolute_error(y_test, lr_preds))\n",
    "print(\"MSE:\", mean_squared_error(y_test, lr_preds))\n",
    "print(\"RMSE:\", np.sqrt(mean_squared_error(y_test, lr_preds)))\n",
    "print(\"R² Score:\", r2_score(y_test, lr_preds))"
   ]
  },
  {
   "cell_type": "code",
   "execution_count": 26,
   "id": "d17d62fc-d912-415f-8c27-7f9821cd4f39",
   "metadata": {},
   "outputs": [
    {
     "name": "stdout",
     "output_type": "stream",
     "text": [
      "\n",
      "🌲 Random Forest Regressor Performance:\n",
      "MAE: 0.0003192903699822134\n",
      "MSE: 9.143506351057094e-06\n",
      "RMSE: 0.003023823134883569\n",
      "R² Score: 0.999633786087686\n"
     ]
    }
   ],
   "source": [
    "rf_model = RandomForestRegressor(n_estimators=100, random_state=42)\n",
    "rf_model.fit(X_train, y_train)\n",
    "\n",
    "rf_preds = rf_model.predict(X_test)\n",
    "\n",
    "print(\"\\n🌲 Random Forest Regressor Performance:\")\n",
    "print(\"MAE:\", mean_absolute_error(y_test, rf_preds))\n",
    "print(\"MSE:\", mean_squared_error(y_test, rf_preds))\n",
    "print(\"RMSE:\", np.sqrt(mean_squared_error(y_test, rf_preds)))\n",
    "print(\"R² Score:\", r2_score(y_test, rf_preds))\n"
   ]
  },
  {
   "cell_type": "code",
   "execution_count": 51,
   "id": "c07202af-3a9c-49fe-abb6-6489c1ab2cf0",
   "metadata": {},
   "outputs": [
    {
     "name": "stdout",
     "output_type": "stream",
     "text": [
      "satisfaction_level\n",
      "2    16783\n",
      "3     4469\n",
      "1     1966\n",
      "Name: count, dtype: int64\n"
     ]
    }
   ],
   "source": [
    "def classify_satisfaction(score):\n",
    "    if score <= 0.4:\n",
    "        return 1  # Low\n",
    "    elif score <= 0.7:\n",
    "        return 2  # Medium\n",
    "    else:\n",
    "        return 3  # High\n",
    "\n",
    "data['satisfaction_level'] = data['satisfaction_score'].apply(classify_satisfaction)\n",
    "\n",
    "# Check class counts again\n",
    "print(data['satisfaction_level'].value_counts())\n"
   ]
  },
  {
   "cell_type": "code",
   "execution_count": 53,
   "id": "78782a9e-24c1-47d7-bf20-ac86b3f96a32",
   "metadata": {},
   "outputs": [
    {
     "name": "stderr",
     "output_type": "stream",
     "text": [
      "C:\\Users\\HP\\AppData\\Local\\Temp\\ipykernel_12704\\1157075241.py:4: FutureWarning: \n",
      "\n",
      "Passing `palette` without assigning `hue` is deprecated and will be removed in v0.14.0. Assign the `x` variable to `hue` and set `legend=False` for the same effect.\n",
      "\n",
      "  sns.countplot(x='satisfaction_level', data=data, palette='viridis')\n"
     ]
    },
    {
     "data": {
      "image/png": "[encoded data removed]",
      "text/plain": [
       "<Figure size 640x480 with 1 Axes>"
      ]
     },
     "metadata": {},
     "output_type": "display_data"
    }
   ],
   "source": [
    "import seaborn as sns\n",
    "import matplotlib.pyplot as plt\n",
    "\n",
    "sns.countplot(x='satisfaction_level', data=data, palette='viridis')\n",
    "plt.title(\"Satisfaction Level Distribution (1=Low, 2=Medium, 3=High)\")\n",
    "plt.show()\n"
   ]
  },
  {
   "cell_type": "code",
   "execution_count": 55,
   "id": "3ffb22e5-37ed-41aa-bf59-a87fd1a9421a",
   "metadata": {},
   "outputs": [],
   "source": [
    "from sklearn.model_selection import train_test_split\n",
    "\n",
    "# Drop both target columns from features\n",
    "X = data.drop(columns=['satisfaction_score', 'satisfaction_level'])\n",
    "y = data['satisfaction_level']\n",
    "\n",
    "# Stratified split to preserve class balance\n",
    "X_train, X_test, y_train, y_test = train_test_split(\n",
    "    X, y, test_size=0.2, stratify=y, random_state=42\n",
    ")\n"
   ]
  },
  {
   "cell_type": "code",
   "execution_count": 57,
   "id": "7a114103-c00a-4e33-912c-613e8be6afce",
   "metadata": {},
   "outputs": [
    {
     "name": "stdout",
     "output_type": "stream",
     "text": [
      "📊 Logistic Regression Results\n",
      "              precision    recall  f1-score   support\n",
      "\n",
      "           1       1.00      0.99      0.99       393\n",
      "           2       1.00      1.00      1.00      3357\n",
      "           3       1.00      1.00      1.00       894\n",
      "\n",
      "    accuracy                           1.00      4644\n",
      "   macro avg       1.00      0.99      1.00      4644\n",
      "weighted avg       1.00      1.00      1.00      4644\n",
      "\n"
     ]
    }
   ],
   "source": [
    "from sklearn.pipeline import Pipeline\n",
    "from sklearn.impute import SimpleImputer\n",
    "from sklearn.preprocessing import MinMaxScaler\n",
    "from sklearn.linear_model import LogisticRegression\n",
    "from sklearn.metrics import classification_report\n",
    "\n",
    "lr_pipeline = Pipeline([\n",
    "    ('imputer', SimpleImputer(strategy='mean')),\n",
    "    ('scaler', MinMaxScaler()),\n",
    "    ('classifier', LogisticRegression(max_iter=1000))\n",
    "])\n",
    "\n",
    "# Fit & predict\n",
    "lr_pipeline.fit(X_train, y_train)\n",
    "lr_preds = lr_pipeline.predict(X_test)\n",
    "\n",
    "# Evaluation\n",
    "print(\"📊 Logistic Regression Results\")\n",
    "print(classification_report(y_test, lr_preds))\n"
   ]
  },
  {
   "cell_type": "code",
   "execution_count": 59,
   "id": "43144198-3c8b-4651-a109-8b7435bf40d8",
   "metadata": {},
   "outputs": [
    {
     "name": "stdout",
     "output_type": "stream",
     "text": [
      "🌲 Random Forest Classifier Results\n",
      "              precision    recall  f1-score   support\n",
      "\n",
      "           1       0.99      0.85      0.91       393\n",
      "           2       0.97      1.00      0.98      3357\n",
      "           3       1.00      0.94      0.97       894\n",
      "\n",
      "    accuracy                           0.97      4644\n",
      "   macro avg       0.98      0.93      0.95      4644\n",
      "weighted avg       0.97      0.97      0.97      4644\n",
      "\n"
     ]
    }
   ],
   "source": [
    "from sklearn.ensemble import RandomForestClassifier\n",
    "\n",
    "rf_pipeline = Pipeline([\n",
    "    ('imputer', SimpleImputer(strategy='mean')),\n",
    "    ('scaler', MinMaxScaler()),  # Optional for RF, but we keep it consistent\n",
    "    ('classifier', RandomForestClassifier(n_estimators=100, random_state=42))\n",
    "])\n",
    "\n",
    "rf_pipeline.fit(X_train, y_train)\n",
    "rf_preds = rf_pipeline.predict(X_test)\n",
    "\n",
    "print(\"🌲 Random Forest Classifier Results\")\n",
    "print(classification_report(y_test, rf_preds))\n"
   ]
  },
  {
   "cell_type": "code",
   "execution_count": null,
   "id": "ddf6e477-d130-4380-9777-2cd921d139af",
   "metadata": {},
   "outputs": [],
   "source": []
  }
 ],
 "metadata": {
  "kernelspec": {
   "display_name": "Python [conda env:base] *",
   "language": "python",
   "name": "conda-base-py"
  },
  "language_info": {
   "codemirror_mode": {
    "name": "ipython",
    "version": 3
   },
   "file_extension": ".py",
   "mimetype": "text/x-python",
   "name": "python",
   "nbconvert_exporter": "python",
   "pygments_lexer": "ipython3",
   "version": "3.12.7"
  }
 },
 "nbformat": 4,
 "nbformat_minor": 5
}
